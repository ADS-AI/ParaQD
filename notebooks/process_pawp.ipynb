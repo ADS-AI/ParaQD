{
 "cells": [
  {
   "cell_type": "code",
   "execution_count": 10,
   "metadata": {},
   "outputs": [],
   "source": [
    "import pandas as pd\n",
    "import re"
   ]
  },
  {
   "cell_type": "code",
   "execution_count": 3,
   "metadata": {},
   "outputs": [
    {
     "name": "stdout",
     "output_type": "stream",
     "text": [
      "(500, 3)\n"
     ]
    },
    {
     "data": {
      "text/html": [
       "<div>\n",
       "<style scoped>\n",
       "    .dataframe tbody tr th:only-of-type {\n",
       "        vertical-align: middle;\n",
       "    }\n",
       "\n",
       "    .dataframe tbody tr th {\n",
       "        vertical-align: top;\n",
       "    }\n",
       "\n",
       "    .dataframe thead th {\n",
       "        text-align: right;\n",
       "    }\n",
       "</style>\n",
       "<table border=\"1\" class=\"dataframe\">\n",
       "  <thead>\n",
       "    <tr style=\"text-align: right;\">\n",
       "      <th></th>\n",
       "      <th>question</th>\n",
       "      <th>paraphrase</th>\n",
       "      <th>label</th>\n",
       "    </tr>\n",
       "  </thead>\n",
       "  <tbody>\n",
       "    <tr>\n",
       "      <th>0</th>\n",
       "      <td>Melissa buys 2 packs of tennis balls for $12 i...</td>\n",
       "      <td>Melissa spends $12 on packs of tennis balls. T...</td>\n",
       "      <td>0.0</td>\n",
       "    </tr>\n",
       "    <tr>\n",
       "      <th>1</th>\n",
       "      <td>A triangle has the following side lengths: 4 c...</td>\n",
       "      <td>The side lengths of a triangle are 4 cm, 5 cm,...</td>\n",
       "      <td>1.0</td>\n",
       "    </tr>\n",
       "    <tr>\n",
       "      <th>2</th>\n",
       "      <td>Kelly had $24. She spent 5/6 of her money on a...</td>\n",
       "      <td>Kelly had $24 with her. She spent some of it o...</td>\n",
       "      <td>0.0</td>\n",
       "    </tr>\n",
       "    <tr>\n",
       "      <th>3</th>\n",
       "      <td>The Book Nook sold 27 computer books last week...</td>\n",
       "      <td>Last week, the Book Nook sold 27 computer book...</td>\n",
       "      <td>1.0</td>\n",
       "    </tr>\n",
       "    <tr>\n",
       "      <th>4</th>\n",
       "      <td>The hobby store normally sells 10,576 trading ...</td>\n",
       "      <td>Every month, the hobby shop sells a lot of tra...</td>\n",
       "      <td>0.0</td>\n",
       "    </tr>\n",
       "  </tbody>\n",
       "</table>\n",
       "</div>"
      ],
      "text/plain": [
       "                                            question  \\\n",
       "0  Melissa buys 2 packs of tennis balls for $12 i...   \n",
       "1  A triangle has the following side lengths: 4 c...   \n",
       "2  Kelly had $24. She spent 5/6 of her money on a...   \n",
       "3  The Book Nook sold 27 computer books last week...   \n",
       "4  The hobby store normally sells 10,576 trading ...   \n",
       "\n",
       "                                          paraphrase  label  \n",
       "0  Melissa spends $12 on packs of tennis balls. T...    0.0  \n",
       "1  The side lengths of a triangle are 4 cm, 5 cm,...    1.0  \n",
       "2  Kelly had $24 with her. She spent some of it o...    0.0  \n",
       "3  Last week, the Book Nook sold 27 computer book...    1.0  \n",
       "4  Every month, the hobby shop sells a lot of tra...    0.0  "
      ]
     },
     "execution_count": 3,
     "metadata": {},
     "output_type": "execute_result"
    }
   ],
   "source": [
    "df = pd.read_csv(\"../data/PAWP/PAWP_raw.csv\")\n",
    "print(df.shape)\n",
    "df.head()"
   ]
  },
  {
   "cell_type": "code",
   "execution_count": 5,
   "metadata": {},
   "outputs": [
    {
     "data": {
      "text/plain": [
       "question        0\n",
       "paraphrase     99\n",
       "label         100\n",
       "dtype: int64"
      ]
     },
     "execution_count": 5,
     "metadata": {},
     "output_type": "execute_result"
    }
   ],
   "source": [
    "df.isnull().sum()"
   ]
  },
  {
   "cell_type": "code",
   "execution_count": 6,
   "metadata": {},
   "outputs": [
    {
     "name": "stdout",
     "output_type": "stream",
     "text": [
      "(400, 3)\n"
     ]
    },
    {
     "data": {
      "text/html": [
       "<div>\n",
       "<style scoped>\n",
       "    .dataframe tbody tr th:only-of-type {\n",
       "        vertical-align: middle;\n",
       "    }\n",
       "\n",
       "    .dataframe tbody tr th {\n",
       "        vertical-align: top;\n",
       "    }\n",
       "\n",
       "    .dataframe thead th {\n",
       "        text-align: right;\n",
       "    }\n",
       "</style>\n",
       "<table border=\"1\" class=\"dataframe\">\n",
       "  <thead>\n",
       "    <tr style=\"text-align: right;\">\n",
       "      <th></th>\n",
       "      <th>question</th>\n",
       "      <th>paraphrase</th>\n",
       "      <th>label</th>\n",
       "    </tr>\n",
       "  </thead>\n",
       "  <tbody>\n",
       "    <tr>\n",
       "      <th>0</th>\n",
       "      <td>Melissa buys 2 packs of tennis balls for $12 i...</td>\n",
       "      <td>Melissa spends $12 on packs of tennis balls. T...</td>\n",
       "      <td>0.0</td>\n",
       "    </tr>\n",
       "    <tr>\n",
       "      <th>1</th>\n",
       "      <td>A triangle has the following side lengths: 4 c...</td>\n",
       "      <td>The side lengths of a triangle are 4 cm, 5 cm,...</td>\n",
       "      <td>1.0</td>\n",
       "    </tr>\n",
       "    <tr>\n",
       "      <th>2</th>\n",
       "      <td>Kelly had $24. She spent 5/6 of her money on a...</td>\n",
       "      <td>Kelly had $24 with her. She spent some of it o...</td>\n",
       "      <td>0.0</td>\n",
       "    </tr>\n",
       "    <tr>\n",
       "      <th>3</th>\n",
       "      <td>The Book Nook sold 27 computer books last week...</td>\n",
       "      <td>Last week, the Book Nook sold 27 computer book...</td>\n",
       "      <td>1.0</td>\n",
       "    </tr>\n",
       "    <tr>\n",
       "      <th>4</th>\n",
       "      <td>The hobby store normally sells 10,576 trading ...</td>\n",
       "      <td>Every month, the hobby shop sells a lot of tra...</td>\n",
       "      <td>0.0</td>\n",
       "    </tr>\n",
       "  </tbody>\n",
       "</table>\n",
       "</div>"
      ],
      "text/plain": [
       "                                            question  \\\n",
       "0  Melissa buys 2 packs of tennis balls for $12 i...   \n",
       "1  A triangle has the following side lengths: 4 c...   \n",
       "2  Kelly had $24. She spent 5/6 of her money on a...   \n",
       "3  The Book Nook sold 27 computer books last week...   \n",
       "4  The hobby store normally sells 10,576 trading ...   \n",
       "\n",
       "                                          paraphrase  label  \n",
       "0  Melissa spends $12 on packs of tennis balls. T...    0.0  \n",
       "1  The side lengths of a triangle are 4 cm, 5 cm,...    1.0  \n",
       "2  Kelly had $24 with her. She spent some of it o...    0.0  \n",
       "3  Last week, the Book Nook sold 27 computer book...    1.0  \n",
       "4  Every month, the hobby shop sells a lot of tra...    0.0  "
      ]
     },
     "execution_count": 6,
     "metadata": {},
     "output_type": "execute_result"
    }
   ],
   "source": [
    "df.dropna(inplace=True)\n",
    "print(df.shape)\n",
    "df.head()"
   ]
  },
  {
   "cell_type": "code",
   "execution_count": 7,
   "metadata": {},
   "outputs": [
    {
     "data": {
      "text/plain": [
       "0    201\n",
       "1    199\n",
       "Name: label, dtype: int64"
      ]
     },
     "execution_count": 7,
     "metadata": {},
     "output_type": "execute_result"
    }
   ],
   "source": [
    "df[\"label\"] = df[\"label\"].apply(lambda x: int(x))\n",
    "df[\"label\"].value_counts()"
   ]
  },
  {
   "cell_type": "code",
   "execution_count": 8,
   "metadata": {},
   "outputs": [
    {
     "data": {
      "text/html": [
       "<div>\n",
       "<style scoped>\n",
       "    .dataframe tbody tr th:only-of-type {\n",
       "        vertical-align: middle;\n",
       "    }\n",
       "\n",
       "    .dataframe tbody tr th {\n",
       "        vertical-align: top;\n",
       "    }\n",
       "\n",
       "    .dataframe thead th {\n",
       "        text-align: right;\n",
       "    }\n",
       "</style>\n",
       "<table border=\"1\" class=\"dataframe\">\n",
       "  <thead>\n",
       "    <tr style=\"text-align: right;\">\n",
       "      <th></th>\n",
       "      <th>question</th>\n",
       "      <th>paraphrase</th>\n",
       "      <th>label</th>\n",
       "    </tr>\n",
       "  </thead>\n",
       "  <tbody>\n",
       "    <tr>\n",
       "      <th>0</th>\n",
       "      <td>Mrs. Novella ordered 5 books from the Children...</td>\n",
       "      <td>Mrs. Novella ordered some books from the Child...</td>\n",
       "      <td>0</td>\n",
       "    </tr>\n",
       "    <tr>\n",
       "      <th>1</th>\n",
       "      <td>Zachary has 135 marbles. He gave 27 marbles to...</td>\n",
       "      <td>Zachary has many marbles. He gave some marbles...</td>\n",
       "      <td>0</td>\n",
       "    </tr>\n",
       "    <tr>\n",
       "      <th>2</th>\n",
       "      <td>Dale caught 35 fireflies. She let some escape....</td>\n",
       "      <td>Dale caught 35 fireflies. If some of the firef...</td>\n",
       "      <td>0</td>\n",
       "    </tr>\n",
       "    <tr>\n",
       "      <th>3</th>\n",
       "      <td>52 children and 29 adults went to the track me...</td>\n",
       "      <td>\\t\\t\\r\\n52 children and adults went to the tr...</td>\n",
       "      <td>0</td>\n",
       "    </tr>\n",
       "    <tr>\n",
       "      <th>4</th>\n",
       "      <td>Mrs. Chin baked 58 cookies for her son's class...</td>\n",
       "      <td>Mrs. Chin baked some cookies for her son's cla...</td>\n",
       "      <td>0</td>\n",
       "    </tr>\n",
       "  </tbody>\n",
       "</table>\n",
       "</div>"
      ],
      "text/plain": [
       "                                            question  \\\n",
       "0  Mrs. Novella ordered 5 books from the Children...   \n",
       "1  Zachary has 135 marbles. He gave 27 marbles to...   \n",
       "2  Dale caught 35 fireflies. She let some escape....   \n",
       "3  52 children and 29 adults went to the track me...   \n",
       "4  Mrs. Chin baked 58 cookies for her son's class...   \n",
       "\n",
       "                                          paraphrase  label  \n",
       "0  Mrs. Novella ordered some books from the Child...      0  \n",
       "1  Zachary has many marbles. He gave some marbles...      0  \n",
       "2  Dale caught 35 fireflies. If some of the firef...      0  \n",
       "3   \\t\\t\\r\\n52 children and adults went to the tr...      0  \n",
       "4  Mrs. Chin baked some cookies for her son's cla...      0  "
      ]
     },
     "execution_count": 8,
     "metadata": {},
     "output_type": "execute_result"
    }
   ],
   "source": [
    "df = df.sample(frac=1).reset_index(drop=True)\n",
    "df.head()"
   ]
  },
  {
   "cell_type": "code",
   "execution_count": 9,
   "metadata": {},
   "outputs": [
    {
     "data": {
      "text/html": [
       "<div>\n",
       "<style scoped>\n",
       "    .dataframe tbody tr th:only-of-type {\n",
       "        vertical-align: middle;\n",
       "    }\n",
       "\n",
       "    .dataframe tbody tr th {\n",
       "        vertical-align: top;\n",
       "    }\n",
       "\n",
       "    .dataframe thead th {\n",
       "        text-align: right;\n",
       "    }\n",
       "</style>\n",
       "<table border=\"1\" class=\"dataframe\">\n",
       "  <thead>\n",
       "    <tr style=\"text-align: right;\">\n",
       "      <th></th>\n",
       "      <th>question</th>\n",
       "      <th>paraphrase</th>\n",
       "      <th>label</th>\n",
       "    </tr>\n",
       "  </thead>\n",
       "  <tbody>\n",
       "    <tr>\n",
       "      <th>395</th>\n",
       "      <td>Mr. Winston sold 654 ice cream cones last week...</td>\n",
       "      <td>Last weekend, Mr. Winston sold 654 ice cream c...</td>\n",
       "      <td>1</td>\n",
       "    </tr>\n",
       "    <tr>\n",
       "      <th>396</th>\n",
       "      <td>Angelo is the local marble champion. He has 20...</td>\n",
       "      <td>Angelo is the reigning marble champion in the ...</td>\n",
       "      <td>0</td>\n",
       "    </tr>\n",
       "    <tr>\n",
       "      <th>397</th>\n",
       "      <td>Kelly had $24. She spent 5/6 of her money on a...</td>\n",
       "      <td>Kelly had $24 with her. She spent some of it o...</td>\n",
       "      <td>0</td>\n",
       "    </tr>\n",
       "    <tr>\n",
       "      <th>398</th>\n",
       "      <td>Ricky has a magic money box. Every day the box...</td>\n",
       "      <td>\\t\\t\\r\\nRicky has a magic money box. Every da...</td>\n",
       "      <td>0</td>\n",
       "    </tr>\n",
       "    <tr>\n",
       "      <th>399</th>\n",
       "      <td>Anne had 65 cents. She found 25 cents on the s...</td>\n",
       "      <td>Anne had 65 cents. She discovered 25 cents on ...</td>\n",
       "      <td>1</td>\n",
       "    </tr>\n",
       "  </tbody>\n",
       "</table>\n",
       "</div>"
      ],
      "text/plain": [
       "                                              question  \\\n",
       "395  Mr. Winston sold 654 ice cream cones last week...   \n",
       "396  Angelo is the local marble champion. He has 20...   \n",
       "397  Kelly had $24. She spent 5/6 of her money on a...   \n",
       "398  Ricky has a magic money box. Every day the box...   \n",
       "399  Anne had 65 cents. She found 25 cents on the s...   \n",
       "\n",
       "                                            paraphrase  label  \n",
       "395  Last weekend, Mr. Winston sold 654 ice cream c...      1  \n",
       "396  Angelo is the reigning marble champion in the ...      0  \n",
       "397  Kelly had $24 with her. She spent some of it o...      0  \n",
       "398   \\t\\t\\r\\nRicky has a magic money box. Every da...      0  \n",
       "399  Anne had 65 cents. She discovered 25 cents on ...      1  "
      ]
     },
     "execution_count": 9,
     "metadata": {},
     "output_type": "execute_result"
    }
   ],
   "source": [
    "df.tail()"
   ]
  },
  {
   "cell_type": "code",
   "execution_count": 11,
   "metadata": {},
   "outputs": [],
   "source": [
    "def process_text(text):\n",
    "    text = re.sub(\"\\s+\", \" \", text).strip()\n",
    "    return text"
   ]
  },
  {
   "cell_type": "code",
   "execution_count": 12,
   "metadata": {},
   "outputs": [
    {
     "data": {
      "text/html": [
       "<div>\n",
       "<style scoped>\n",
       "    .dataframe tbody tr th:only-of-type {\n",
       "        vertical-align: middle;\n",
       "    }\n",
       "\n",
       "    .dataframe tbody tr th {\n",
       "        vertical-align: top;\n",
       "    }\n",
       "\n",
       "    .dataframe thead th {\n",
       "        text-align: right;\n",
       "    }\n",
       "</style>\n",
       "<table border=\"1\" class=\"dataframe\">\n",
       "  <thead>\n",
       "    <tr style=\"text-align: right;\">\n",
       "      <th></th>\n",
       "      <th>question</th>\n",
       "      <th>paraphrase</th>\n",
       "      <th>label</th>\n",
       "    </tr>\n",
       "  </thead>\n",
       "  <tbody>\n",
       "    <tr>\n",
       "      <th>395</th>\n",
       "      <td>Mr. Winston sold 654 ice cream cones last week...</td>\n",
       "      <td>Last weekend, Mr. Winston sold 654 ice cream c...</td>\n",
       "      <td>1</td>\n",
       "    </tr>\n",
       "    <tr>\n",
       "      <th>396</th>\n",
       "      <td>Angelo is the local marble champion. He has 20...</td>\n",
       "      <td>Angelo is the reigning marble champion in the ...</td>\n",
       "      <td>0</td>\n",
       "    </tr>\n",
       "    <tr>\n",
       "      <th>397</th>\n",
       "      <td>Kelly had $24. She spent 5/6 of her money on a...</td>\n",
       "      <td>Kelly had $24 with her. She spent some of it o...</td>\n",
       "      <td>0</td>\n",
       "    </tr>\n",
       "    <tr>\n",
       "      <th>398</th>\n",
       "      <td>Ricky has a magic money box. Every day the box...</td>\n",
       "      <td>Ricky has a magic money box. Every day the box...</td>\n",
       "      <td>0</td>\n",
       "    </tr>\n",
       "    <tr>\n",
       "      <th>399</th>\n",
       "      <td>Anne had 65 cents. She found 25 cents on the s...</td>\n",
       "      <td>Anne had 65 cents. She discovered 25 cents on ...</td>\n",
       "      <td>1</td>\n",
       "    </tr>\n",
       "  </tbody>\n",
       "</table>\n",
       "</div>"
      ],
      "text/plain": [
       "                                              question  \\\n",
       "395  Mr. Winston sold 654 ice cream cones last week...   \n",
       "396  Angelo is the local marble champion. He has 20...   \n",
       "397  Kelly had $24. She spent 5/6 of her money on a...   \n",
       "398  Ricky has a magic money box. Every day the box...   \n",
       "399  Anne had 65 cents. She found 25 cents on the s...   \n",
       "\n",
       "                                            paraphrase  label  \n",
       "395  Last weekend, Mr. Winston sold 654 ice cream c...      1  \n",
       "396  Angelo is the reigning marble champion in the ...      0  \n",
       "397  Kelly had $24 with her. She spent some of it o...      0  \n",
       "398  Ricky has a magic money box. Every day the box...      0  \n",
       "399  Anne had 65 cents. She discovered 25 cents on ...      1  "
      ]
     },
     "execution_count": 12,
     "metadata": {},
     "output_type": "execute_result"
    }
   ],
   "source": [
    "df[\"question\"] = df[\"question\"].apply(process_text)\n",
    "df[\"paraphrase\"] = df[\"paraphrase\"].apply(process_text)\n",
    "df.tail()"
   ]
  },
  {
   "cell_type": "code",
   "execution_count": 13,
   "metadata": {},
   "outputs": [],
   "source": [
    "df.to_csv(\"../data/PAWP/PAWP.csv\", index=False)"
   ]
  },
  {
   "cell_type": "code",
   "execution_count": null,
   "metadata": {},
   "outputs": [],
   "source": []
  }
 ],
 "metadata": {
  "interpreter": {
   "hash": "6b91a4b4bd425fd304c2646209932bd24121a9132bf2c68c196c416ea21ab788"
  },
  "kernelspec": {
   "display_name": "Python 3.7.4 64-bit",
   "language": "python",
   "name": "python3"
  },
  "language_info": {
   "codemirror_mode": {
    "name": "ipython",
    "version": 3
   },
   "file_extension": ".py",
   "mimetype": "text/x-python",
   "name": "python",
   "nbconvert_exporter": "python",
   "pygments_lexer": "ipython3",
   "version": "3.7.4"
  },
  "orig_nbformat": 4
 },
 "nbformat": 4,
 "nbformat_minor": 2
}
