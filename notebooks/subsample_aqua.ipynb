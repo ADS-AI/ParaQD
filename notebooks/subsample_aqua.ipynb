{
 "cells": [
  {
   "cell_type": "code",
   "execution_count": 1,
   "metadata": {},
   "outputs": [],
   "source": [
    "import pandas as pd"
   ]
  },
  {
   "cell_type": "code",
   "execution_count": 2,
   "metadata": {},
   "outputs": [],
   "source": [
    "df = pd.read_csv('../data/AQUA/aqua_train.csv')"
   ]
  },
  {
   "cell_type": "code",
   "execution_count": 3,
   "metadata": {},
   "outputs": [],
   "source": [
    "df = df.sample(4000).reset_index(drop=True)"
   ]
  },
  {
   "cell_type": "code",
   "execution_count": 4,
   "metadata": {},
   "outputs": [
    {
     "data": {
      "text/plain": [
       "(4000, 11)"
      ]
     },
     "execution_count": 4,
     "metadata": {},
     "output_type": "execute_result"
    }
   ],
   "source": [
    "df.shape"
   ]
  },
  {
   "cell_type": "code",
   "execution_count": 5,
   "metadata": {},
   "outputs": [
    {
     "data": {
      "text/html": [
       "<div>\n",
       "<style scoped>\n",
       "    .dataframe tbody tr th:only-of-type {\n",
       "        vertical-align: middle;\n",
       "    }\n",
       "\n",
       "    .dataframe tbody tr th {\n",
       "        vertical-align: top;\n",
       "    }\n",
       "\n",
       "    .dataframe thead th {\n",
       "        text-align: right;\n",
       "    }\n",
       "</style>\n",
       "<table border=\"1\" class=\"dataframe\">\n",
       "  <thead>\n",
       "    <tr style=\"text-align: right;\">\n",
       "      <th></th>\n",
       "      <th>question</th>\n",
       "      <th>positive1</th>\n",
       "      <th>positive2</th>\n",
       "      <th>positive3</th>\n",
       "      <th>positive4</th>\n",
       "      <th>neg_1</th>\n",
       "      <th>neg_2</th>\n",
       "      <th>neg_3</th>\n",
       "      <th>neg_4</th>\n",
       "      <th>neg_5</th>\n",
       "      <th>neg_6</th>\n",
       "    </tr>\n",
       "  </thead>\n",
       "  <tbody>\n",
       "    <tr>\n",
       "      <th>0</th>\n",
       "      <td>On a scale that measures the intensity of a ce...</td>\n",
       "      <td>On a scale that measures the intensity of a pa...</td>\n",
       "      <td>On a scale that measures the intensity of a ce...</td>\n",
       "      <td>On a scale that measures the intensity of a ce...</td>\n",
       "      <td>NaN</td>\n",
       "      <td>On a scale that measures the of a certain phen...</td>\n",
       "      <td>On a scale that measures the intensity of a ce...</td>\n",
       "      <td>On a scale that measures the 1pm of a certain ...</td>\n",
       "      <td>On a scale that measures the intensity of a ce...</td>\n",
       "      <td>On a scale that measures the stickers of a cer...</td>\n",
       "      <td>On a scale that measures the diet of a certain...</td>\n",
       "    </tr>\n",
       "    <tr>\n",
       "      <th>1</th>\n",
       "      <td>What is the probability that the position in w...</td>\n",
       "      <td>What is the probability that the position in w...</td>\n",
       "      <td>What is the probability that the position in w...</td>\n",
       "      <td>What is the probability that the position in w...</td>\n",
       "      <td>NaN</td>\n",
       "      <td>What is the probability that the position in w...</td>\n",
       "      <td>What is the probability that the position in w...</td>\n",
       "      <td>What is the probability that the position in w...</td>\n",
       "      <td>What is the probability that the position in w...</td>\n",
       "      <td>How likely is it to be that the position in wh...</td>\n",
       "      <td>What is the probability that the position in w...</td>\n",
       "    </tr>\n",
       "    <tr>\n",
       "      <th>2</th>\n",
       "      <td>I remember during the school days , the teache...</td>\n",
       "      <td>I remember the teacher asking the class during...</td>\n",
       "      <td>I remember during the school days , the teache...</td>\n",
       "      <td>I remember during the school days , the teache...</td>\n",
       "      <td>I remember during the school days, the teacher...</td>\n",
       "      <td>I remember during the school days , the teache...</td>\n",
       "      <td>I remember during the school days , the teache...</td>\n",
       "      <td>I remember during the school days , the teache...</td>\n",
       "      <td>I remember during the school days , the teache...</td>\n",
       "      <td>I reproducedmber during the school days , the ...</td>\n",
       "      <td>I remember during the school minutes, the teac...</td>\n",
       "    </tr>\n",
       "    <tr>\n",
       "      <th>3</th>\n",
       "      <td>Each shelf of a bookcase contains 24 books. If...</td>\n",
       "      <td>Each bookshelf contains 24 books.If the librar...</td>\n",
       "      <td>Each shelf of a bookcase contains 24 books. If...</td>\n",
       "      <td>Each shelf of a bookcase contains twenty-four ...</td>\n",
       "      <td>NaN</td>\n",
       "      <td>Each shelf of a contains 24 books. If the libr...</td>\n",
       "      <td>Each shelf of a bookcase contains 24 books.</td>\n",
       "      <td>Each shelf of a bookcase contains 24 log6. If ...</td>\n",
       "      <td>Each shelf of a bookcase contains books. If th...</td>\n",
       "      <td>Each shelf of a bookcase contains 24 2379. If ...</td>\n",
       "      <td>Each shelf of a bookcase contains 24 16noteboo...</td>\n",
       "    </tr>\n",
       "    <tr>\n",
       "      <th>4</th>\n",
       "      <td>Pipe A can fill a tank in 5 hours, pipe B in 1...</td>\n",
       "      <td>Pipe A can fill a tank in 5 hours, pipe B in 1...</td>\n",
       "      <td>Pipe A can fill a tank in 5 hours, pipe B in 1...</td>\n",
       "      <td>Pipe A can fill a tank in five hours, pipe B i...</td>\n",
       "      <td>NaN</td>\n",
       "      <td>Pipe A can fill a tank in 5 , pipe B in 10 and...</td>\n",
       "      <td>Pipe A can fill a tank in 5 hours, pipe B in 1...</td>\n",
       "      <td>Pipe A can fill a tank in 5 lawns, christina B...</td>\n",
       "      <td>Pipe A can fill a tank in 5 hours, pipe B in h...</td>\n",
       "      <td>Pipe A can fill a tank in 5 752, maine B in 10...</td>\n",
       "      <td>Pipe A can fill a tank in 5 months, pipe B in ...</td>\n",
       "    </tr>\n",
       "  </tbody>\n",
       "</table>\n",
       "</div>"
      ],
      "text/plain": [
       "                                            question  \\\n",
       "0  On a scale that measures the intensity of a ce...   \n",
       "1  What is the probability that the position in w...   \n",
       "2  I remember during the school days , the teache...   \n",
       "3  Each shelf of a bookcase contains 24 books. If...   \n",
       "4  Pipe A can fill a tank in 5 hours, pipe B in 1...   \n",
       "\n",
       "                                           positive1  \\\n",
       "0  On a scale that measures the intensity of a pa...   \n",
       "1  What is the probability that the position in w...   \n",
       "2  I remember the teacher asking the class during...   \n",
       "3  Each bookshelf contains 24 books.If the librar...   \n",
       "4  Pipe A can fill a tank in 5 hours, pipe B in 1...   \n",
       "\n",
       "                                           positive2  \\\n",
       "0  On a scale that measures the intensity of a ce...   \n",
       "1  What is the probability that the position in w...   \n",
       "2  I remember during the school days , the teache...   \n",
       "3  Each shelf of a bookcase contains 24 books. If...   \n",
       "4  Pipe A can fill a tank in 5 hours, pipe B in 1...   \n",
       "\n",
       "                                           positive3  \\\n",
       "0  On a scale that measures the intensity of a ce...   \n",
       "1  What is the probability that the position in w...   \n",
       "2  I remember during the school days , the teache...   \n",
       "3  Each shelf of a bookcase contains twenty-four ...   \n",
       "4  Pipe A can fill a tank in five hours, pipe B i...   \n",
       "\n",
       "                                           positive4  \\\n",
       "0                                                NaN   \n",
       "1                                                NaN   \n",
       "2  I remember during the school days, the teacher...   \n",
       "3                                                NaN   \n",
       "4                                                NaN   \n",
       "\n",
       "                                               neg_1  \\\n",
       "0  On a scale that measures the of a certain phen...   \n",
       "1  What is the probability that the position in w...   \n",
       "2  I remember during the school days , the teache...   \n",
       "3  Each shelf of a contains 24 books. If the libr...   \n",
       "4  Pipe A can fill a tank in 5 , pipe B in 10 and...   \n",
       "\n",
       "                                               neg_2  \\\n",
       "0  On a scale that measures the intensity of a ce...   \n",
       "1  What is the probability that the position in w...   \n",
       "2  I remember during the school days , the teache...   \n",
       "3        Each shelf of a bookcase contains 24 books.   \n",
       "4  Pipe A can fill a tank in 5 hours, pipe B in 1...   \n",
       "\n",
       "                                               neg_3  \\\n",
       "0  On a scale that measures the 1pm of a certain ...   \n",
       "1  What is the probability that the position in w...   \n",
       "2  I remember during the school days , the teache...   \n",
       "3  Each shelf of a bookcase contains 24 log6. If ...   \n",
       "4  Pipe A can fill a tank in 5 lawns, christina B...   \n",
       "\n",
       "                                               neg_4  \\\n",
       "0  On a scale that measures the intensity of a ce...   \n",
       "1  What is the probability that the position in w...   \n",
       "2  I remember during the school days , the teache...   \n",
       "3  Each shelf of a bookcase contains books. If th...   \n",
       "4  Pipe A can fill a tank in 5 hours, pipe B in h...   \n",
       "\n",
       "                                               neg_5  \\\n",
       "0  On a scale that measures the stickers of a cer...   \n",
       "1  How likely is it to be that the position in wh...   \n",
       "2  I reproducedmber during the school days , the ...   \n",
       "3  Each shelf of a bookcase contains 24 2379. If ...   \n",
       "4  Pipe A can fill a tank in 5 752, maine B in 10...   \n",
       "\n",
       "                                               neg_6  \n",
       "0  On a scale that measures the diet of a certain...  \n",
       "1  What is the probability that the position in w...  \n",
       "2  I remember during the school minutes, the teac...  \n",
       "3  Each shelf of a bookcase contains 24 16noteboo...  \n",
       "4  Pipe A can fill a tank in 5 months, pipe B in ...  "
      ]
     },
     "execution_count": 5,
     "metadata": {},
     "output_type": "execute_result"
    }
   ],
   "source": [
    "df.head()"
   ]
  },
  {
   "cell_type": "code",
   "execution_count": 7,
   "metadata": {},
   "outputs": [],
   "source": [
    "df.to_csv(\"../data/AQUA/aqua_4k.csv\", index=False)"
   ]
  },
  {
   "cell_type": "code",
   "execution_count": null,
   "metadata": {},
   "outputs": [],
   "source": []
  }
 ],
 "metadata": {
  "interpreter": {
   "hash": "6b91a4b4bd425fd304c2646209932bd24121a9132bf2c68c196c416ea21ab788"
  },
  "kernelspec": {
   "display_name": "Python 3.7.4 64-bit",
   "language": "python",
   "name": "python3"
  },
  "language_info": {
   "codemirror_mode": {
    "name": "ipython",
    "version": 3
   },
   "file_extension": ".py",
   "mimetype": "text/x-python",
   "name": "python",
   "nbconvert_exporter": "python",
   "pygments_lexer": "ipython3",
   "version": "3.7.4"
  },
  "orig_nbformat": 4
 },
 "nbformat": 4,
 "nbformat_minor": 2
}
